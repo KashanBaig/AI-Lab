{
 "cells": [
  {
   "cell_type": "code",
   "execution_count": 1,
   "metadata": {
    "collapsed": false
   },
   "outputs": [
    {
     "name": "stdout",
     "output_type": "stream",
     "text": [
      "Enter the 1st Number: 5\n",
      "Enter the 2nd Number\" 10\n",
      "Enter the Operator:+\n",
      "15\n"
     ]
    }
   ],
   "source": [
    "# 2:  Write a simple calculator program using functions add, sub, mul and div. \n",
    "# The program should accepts two numbers and an operator and calls the corresponding function to perform the operation.\n",
    "\n",
    "x = int(input('Enter the 1st Number: '))\n",
    "y = int(input('Enter the 2nd Number: '))\n",
    "op = input('Enter the Operator:')\n",
    "\n",
    "def add(x, y):\n",
    "    Answer = x + y\n",
    "    return Answer\n",
    "\n",
    "def sub(x, y):\n",
    "    Answer = x - y\n",
    "    return Answer\n",
    "\n",
    "def mul(x, y):\n",
    "    Answer = x * y\n",
    "    return Answer\n",
    "\n",
    "def div(x, y):\n",
    "    Answer = x / y\n",
    "    return Answer\n",
    "\n",
    "if (op==\"+\"):\n",
    "\n",
    "       print(add(x,y))\n",
    "if (op==\"-\"):\n",
    "\n",
    "       print( sub(x,y))\n",
    "if (op==\"*\"):\n",
    "\n",
    "       print(mul(x,y))\n",
    "if (op==\"/\"):\n",
    "\n",
    "       print(div(x,y))\n"
   ]
  },
  {
   "cell_type": "code",
   "execution_count": 18,
   "metadata": {
    "collapsed": false
   },
   "outputs": [
    {
     "name": "stdout",
     "output_type": "stream",
     "text": [
      "[1, 4, 9, 16, 25, 36, 49, 64, 81, 100, 121, 144, 169, 196, 225, 256, 289, 324, 361, 400]\n"
     ]
    }
   ],
   "source": [
    "# 3.\tWrite a function that generates a list with values that are square of number between 1 and 20.\n",
    "\n",
    "square = []\n",
    "def genList():\n",
    "    for i in range(1,21):\n",
    "        square.append(i*i)\n",
    "    print(square)\n",
    "genList()"
   ]
  },
  {
   "cell_type": "code",
   "execution_count": 36,
   "metadata": {
    "collapsed": false
   },
   "outputs": [],
   "source": [
    "# 4.\tDefine a class named Shape with static method printType. \n",
    "# Define methods draw() and area(). Now define two class Rectangle and Triangle. \n",
    "# Rectangle has two attributes length and width. The Triangle class has attributes a,b and c.  \n",
    "# Override the two methods of shape class. Demonstrate the functionality of class by creating its objects.\n",
    "\n",
    "class Shape():\n",
    "    def __init__(self):\n",
    "        print(\"Shape constructor\")\n",
    "    \n",
    "    @staticmethod\n",
    "    def printType():\n",
    "        print(\"Static method\")\n",
    "        \n",
    "    def draw(self):\n",
    "        print(\"Shape draw\")\n",
    "        \n",
    "    def area(self):\n",
    "        print(\"Shape area\")\n",
    "\n",
    "\n"
   ]
  },
  {
   "cell_type": "code",
   "execution_count": 41,
   "metadata": {
    "collapsed": true
   },
   "outputs": [],
   "source": [
    "class Rectangle(Shape):\n",
    "    def __init__(self):\n",
    "        super().__init__()\n",
    "        print(\"Rectangle constructor\")\n",
    "        self.length = 0\n",
    "        self.width = 0\n",
    "    \n",
    "    def draw(self):\n",
    "        print(\"Rectangle draw\")\n",
    "        \n",
    "    def area(self):\n",
    "        print(\"Rectangle area\")\n",
    "        "
   ]
  },
  {
   "cell_type": "code",
   "execution_count": 42,
   "metadata": {
    "collapsed": false
   },
   "outputs": [],
   "source": [
    "class Triangle(Shape):\n",
    "    def __init__(self):\n",
    "        super().__init__()\n",
    "        print(\"Triangle Constructor\")\n",
    "        self.a = 0\n",
    "        self.b = 0\n",
    "        self.c = 0\n",
    "    \n",
    "    def draw(self):\n",
    "        print(\"Triangle draw\")\n",
    "        \n",
    "    def area(self):\n",
    "        print(\"Triangle area\")\n",
    "    \n",
    "        "
   ]
  },
  {
   "cell_type": "code",
   "execution_count": 46,
   "metadata": {
    "collapsed": false
   },
   "outputs": [
    {
     "name": "stdout",
     "output_type": "stream",
     "text": [
      "Static method\n",
      "Shape constructor\n",
      "Static method\n",
      "Shape constructor\n",
      "Triangle Constructor\n",
      "Triangle draw\n"
     ]
    }
   ],
   "source": [
    "#without object calling\n",
    "Shape.printType()\n",
    "\n",
    "#with object shape class\n",
    "s = Shape()\n",
    "s.printType()\n",
    "\n",
    "#with object rectangle class\n",
    "obj = Triangle()\n",
    "obj.draw()"
   ]
  },
  {
   "cell_type": "code",
   "execution_count": 92,
   "metadata": {
    "collapsed": false
   },
   "outputs": [
    {
     "name": "stdout",
     "output_type": "stream",
     "text": [
      "dlrow olleh"
     ]
    }
   ],
   "source": [
    "# 5.\tUsing recursion, write a program to calculate the reverse of a string.\n",
    " \n",
    "line = \"hello world\"\n",
    "def ulta(line): \n",
    "    \n",
    "    if len(line) == 0:\n",
    "            return\n",
    "    else:\n",
    "        a = line[0]\n",
    "        ulta(line[1:]) \n",
    "        print(a, end='') \n",
    "\n",
    "ulta(line)"
   ]
  },
  {
   "cell_type": "code",
   "execution_count": null,
   "metadata": {
    "collapsed": true
   },
   "outputs": [],
   "source": []
  }
 ],
 "metadata": {
  "kernelspec": {
   "display_name": "Python [Root]",
   "language": "python",
   "name": "Python [Root]"
  },
  "language_info": {
   "codemirror_mode": {
    "name": "ipython",
    "version": 3
   },
   "file_extension": ".py",
   "mimetype": "text/x-python",
   "name": "python",
   "nbconvert_exporter": "python",
   "pygments_lexer": "ipython3",
   "version": "3.5.2"
  }
 },
 "nbformat": 4,
 "nbformat_minor": 0
}
